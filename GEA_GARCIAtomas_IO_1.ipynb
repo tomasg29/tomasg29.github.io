{
  "nbformat": 4,
  "nbformat_minor": 0,
  "metadata": {
    "colab": {
      "provenance": [],
      "include_colab_link": true
    },
    "kernelspec": {
      "name": "python3",
      "display_name": "Python 3"
    },
    "language_info": {
      "name": "python"
    }
  },
  "cells": [
    {
      "cell_type": "markdown",
      "metadata": {
        "id": "view-in-github",
        "colab_type": "text"
      },
      "source": [
        "<a href=\"https://colab.research.google.com/github/tomasg29/tomasg29.github.io/blob/main/GEA_GARCIAtomas_IO_1.ipynb\" target=\"_parent\"><img src=\"https://colab.research.google.com/assets/colab-badge.svg\" alt=\"Open In Colab\"/></a>"
      ]
    },
    {
      "cell_type": "code",
      "execution_count": null,
      "metadata": {
        "colab": {
          "base_uri": "https://localhost:8080/"
        },
        "id": "MHMfczJ-i7lL",
        "outputId": "4dbb8067-db5f-4f9c-a3b3-8c09ce5ebdb3"
      },
      "outputs": [
        {
          "output_type": "stream",
          "name": "stdout",
          "text": [
            "x= 35.00001549417793\n",
            "y= 15.000001107491368\n",
            "Objetivo= 225.00005534246475\n"
          ]
        }
      ],
      "source": [
        "#Resolver ejercicio de optimización (Solver SCS)\n",
        "##Importar librería cvxpy\n",
        "import cvxpy as cp\n",
        "##Crear las variables\n",
        "x=cp.Variable()\n",
        "y=cp.Variable()\n",
        "##Crear restricciones\n",
        "Restricciones=[x+y>=50,x-y<=20,x>=0,y>=0]\n",
        "##Función objetivo\n",
        "Objetivo=cp.Minimize(3*x+8*y)\n",
        "##Solver\n",
        "Problema=cp.Problem(Objetivo,Restricciones)\n",
        "Problema.solve(cp.SCS)\n",
        "##Valores óptimos\n",
        "print(\"x=\",x.value)\n",
        "print(\"y=\",y.value)\n",
        "print(\"Objetivo=\",Objetivo.value)"
      ]
    },
    {
      "cell_type": "code",
      "source": [
        "#Resolver ejercicio de optimización (Solver CVXOPT)\n",
        "##Crear las variables\n",
        "x=cp.Variable()\n",
        "y=cp.Variable()\n",
        "##Crear restricciones\n",
        "Restricciones=[x+y>=50,x-y<=20,x>=0,y>=0]\n",
        "##Función objetivo\n",
        "Objetivo=cp.Minimize(3*x+8*y)\n",
        "##Solver\n",
        "Problema=cp.Problem(Objetivo,Restricciones)\n",
        "Problema.solve(cp.CVXOPT)\n",
        "##Valores óptimos\n",
        "print(\"x=\",x.value)\n",
        "print(\"y=\",y.value)\n",
        "print(\"Objetivo=\",Objetivo.value)"
      ],
      "metadata": {
        "colab": {
          "base_uri": "https://localhost:8080/"
        },
        "id": "jRTdI1NTjDoM",
        "outputId": "7b252309-b1ee-49dc-ea9b-f690401b352a"
      },
      "execution_count": null,
      "outputs": [
        {
          "output_type": "stream",
          "name": "stdout",
          "text": [
            "x= 35.00000000026747\n",
            "y= 14.999999970401069\n",
            "Objetivo= 224.99999976401097\n"
          ]
        }
      ]
    },
    {
      "cell_type": "code",
      "source": [
        "#Resolver ejercicio de optimización (Solver ECOS)\n",
        "##Crear las variables\n",
        "x=cp.Variable()\n",
        "y=cp.Variable()\n",
        "##Crear restricciones\n",
        "Restricciones=[x+y>=50,x-y<=20,x>=0,y>=0]\n",
        "##Función objetivo\n",
        "Objetivo=cp.Minimize(3*x+8*y)\n",
        "##Solver\n",
        "Problema=cp.Problem(Objetivo,Restricciones)\n",
        "Problema.solve(cp.ECOS)\n",
        "##Valores óptimos\n",
        "print(\"x=\",x.value)\n",
        "print(\"y=\",y.value)\n",
        "print(\"Objetivo=\",Objetivo.value)"
      ],
      "metadata": {
        "colab": {
          "base_uri": "https://localhost:8080/"
        },
        "id": "5Yb9g-M1oGb4",
        "outputId": "e71980c6-8d9d-4968-fe91-b5633c9e2aae"
      },
      "execution_count": null,
      "outputs": [
        {
          "output_type": "stream",
          "name": "stdout",
          "text": [
            "x= 35.00000000022704\n",
            "y= 14.999999960115321\n",
            "Objetivo= 224.9999996816037\n"
          ]
        }
      ]
    },
    {
      "cell_type": "markdown",
      "source": [
        "# **Comparación de los resultados**\n",
        "\n",
        "---\n",
        "\n",
        "Teniendo en cuenta que CVXPY es un lenguaje para la optimización convexa, \n",
        "que le permite al usuario especificar el problema en la sintaxis natural que sigue las matemáticas, se utilizaron tres solvers diferentes para dar solución al problema de optimización propuesto, estos solucionadores fueron SCS, CVXOPT y ECOS; obteniendo como valores óptimos para las variables de decisión 35 y 15 para X y Y respectivamente, valores que configuran la solución óptima dentro del conjunto de soluciones factibles, ya que, minimizan la función objetivo 3X + 8Y de acuerdo con las respectivas restricciones.\n",
        "Además, utilizando cada uno de los tres solvers, anteriormente mencionados, se observan diferencias muy pequeñas, que inclusive podrían llegar  a considerarse insignificantes, en los valores de las variables de decisión, y por ende, de la función objetivo objeto de minimización."
      ],
      "metadata": {
        "id": "681rQPWtmUMS"
      }
    }
  ]
}